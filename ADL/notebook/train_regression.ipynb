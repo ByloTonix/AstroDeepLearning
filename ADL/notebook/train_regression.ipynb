{
 "cells": [
  {
   "cell_type": "code",
   "execution_count": 1,
   "id": "6a036603-f944-423c-9399-a42ce72786c3",
   "metadata": {
    "execution": {
     "iopub.execute_input": "2023-04-04T13:43:56.626679Z",
     "iopub.status.busy": "2023-04-04T13:43:56.626302Z",
     "iopub.status.idle": "2023-04-04T13:43:58.311989Z",
     "shell.execute_reply": "2023-04-04T13:43:58.310551Z",
     "shell.execute_reply.started": "2023-04-04T13:43:56.626624Z"
    },
    "tags": []
   },
   "outputs": [],
   "source": [
    "import sys\n",
    "username = \"alisa\"\n",
    "sys.path.append(f\"/home/{username}/git/AstroDeepLearning/\")\n",
    "import torch\n",
    "from ADL.model.MDN_Regression_torch import MDN_Regression, DeepEnsemble_MDN\n",
    "from ADL.dataset.Planck_torch import Planck_Regression_Dataset, StratifiedSampler\n",
    "from torch.utils.data import DataLoader\n",
    "from ADL.model import pixels\n",
    "import numpy as np\n",
    "from matplotlib import pyplot as plt"
   ]
  },
  {
   "cell_type": "markdown",
   "id": "84c96d14",
   "metadata": {},
   "source": [
    "## Обучение ансамбля моделей сегментации"
   ]
  },
  {
   "cell_type": "code",
   "execution_count": 2,
   "id": "0c46e7d5-7965-4d21-96b6-f185597f3486",
   "metadata": {
    "execution": {
     "iopub.execute_input": "2023-04-04T13:43:58.322153Z",
     "iopub.status.busy": "2023-04-04T13:43:58.321936Z",
     "iopub.status.idle": "2023-04-04T13:44:00.232564Z",
     "shell.execute_reply": "2023-04-04T13:44:00.231078Z",
     "shell.execute_reply.started": "2023-04-04T13:43:58.322131Z"
    },
    "tags": []
   },
   "outputs": [
    {
     "data": {
      "text/plain": [
       "'cuda:0'"
      ]
     },
     "execution_count": 2,
     "metadata": {},
     "output_type": "execute_result"
    }
   ],
   "source": [
    "device = \"cuda:0\" if torch.cuda.is_available() else \"cpu\"\n",
    "optimizer = torch.optim.Adam\n",
    "scheduler = torch.optim.lr_scheduler.ExponentialLR\n",
    "ens = DeepEnsemble_MDN(MDN_Regression, \n",
    "    {'sizes': [512, 256, 128, 1], 'p': 0.0},\n",
    "    n_models=5, device=device, model_save_path=f\"/home/{username}/Models/Planck_MDN/5model_sampler/\",\n",
    "    \n",
    "    optimizer=optimizer, \n",
    "    optimizer_args={'lr': 0.001, 'weight_decay': 0.001},\n",
    "    scheduler=scheduler,\n",
    "    scheduler_args={'gamma': 0.95},\n",
    "                      )\n",
    "device"
   ]
  },
  {
   "cell_type": "code",
   "execution_count": 3,
   "id": "9a2c74f6-0c5a-45cc-85de-c063282fe26e",
   "metadata": {
    "execution": {
     "iopub.execute_input": "2023-04-04T13:44:00.235606Z",
     "iopub.status.busy": "2023-04-04T13:44:00.235191Z",
     "iopub.status.idle": "2023-04-04T13:44:02.033369Z",
     "shell.execute_reply": "2023-04-04T13:44:02.032357Z",
     "shell.execute_reply.started": "2023-04-04T13:44:00.235582Z"
    },
    "tags": []
   },
   "outputs": [],
   "source": [
    "dataset_train = Planck_Regression_Dataset(f\"/home/{username}/Data/Planck/healpix_nside2/\",\n",
    "                               f\"/home/{username}/Data/Planck/cluster_cats/with_coords/PSZ2_z.csv\", \n",
    "                                    pix2=pixels.default[\"train\"],\n",
    "                                         patch_size=32)\n",
    "dataset_val = Planck_Regression_Dataset(f\"/home/{username}/Data/Planck/healpix_nside2/\",\n",
    "                               f\"/home/{username}/Data/Planck/cluster_cats/with_coords/PSZ2_z.csv\", \n",
    "                                    pix2=pixels.default[\"val\"],\n",
    "                                        patch_size=32)\n",
    "dataset_test = Planck_Regression_Dataset(f\"/home/{username}/Data/Planck/healpix_nside2/\",\n",
    "                               f\"/home/{username}/Data/Planck/cluster_cats/with_coords/PSZ2_z.csv\", \n",
    "                                    pix2=pixels.default[\"test\"],\n",
    "                                        patch_size=32)\n",
    "batch_size = 128\n",
    "sampler_train = StratifiedSampler(dataset_train, batch_size=batch_size, n_batches=90)\n",
    "sampler_val = StratifiedSampler(dataset_val, batch_size=batch_size, n_batches=10)\n",
    "sampler_test = StratifiedSampler(dataset_test, batch_size=batch_size, n_batches=10)\n",
    "\n",
    "dataloader_train = DataLoader(dataset_train, batch_size=batch_size, shuffle=False, \n",
    "                              sampler=sampler_train)\n",
    "dataloader_val = DataLoader(dataset_val, batch_size=batch_size, shuffle=False,\n",
    "                               sampler=sampler_val)\n",
    "dataloader_test = DataLoader(dataset_test, batch_size=batch_size, shuffle=False,\n",
    "                                sampler=sampler_test)"
   ]
  },
  {
   "cell_type": "code",
   "execution_count": 4,
   "id": "466fae13-c749-4b3a-985d-ae17f5098ec4",
   "metadata": {
    "execution": {
     "iopub.execute_input": "2023-04-04T13:44:02.034643Z",
     "iopub.status.busy": "2023-04-04T13:44:02.034416Z",
     "iopub.status.idle": "2023-04-04T13:44:02.039330Z",
     "shell.execute_reply": "2023-04-04T13:44:02.038413Z",
     "shell.execute_reply.started": "2023-04-04T13:44:02.034624Z"
    },
    "tags": []
   },
   "outputs": [],
   "source": [
    "def sigma_nmad(true, preds):\n",
    "    diff = preds - true\n",
    "    m = np.median(diff)\n",
    "    return 1.48 * np.median(np.abs((diff - m) / (1 + true)))"
   ]
  },
  {
   "cell_type": "code",
   "execution_count": null,
   "id": "a079d2bf-f738-4374-8a00-b51ce7fb7764",
   "metadata": {
    "execution": {
     "iopub.execute_input": "2023-04-04T13:44:02.040350Z",
     "iopub.status.busy": "2023-04-04T13:44:02.040148Z"
    },
    "tags": []
   },
   "outputs": [],
   "source": [
    "ens.fit({\"train\": dataloader_train, \"val\": dataloader_val, \"test\": dataloader_test},\n",
    "    epochs=100, \n",
    "    verbose=True,    \n",
    "    metrics={'S_nmad': sigma_nmad})"
   ]
  },
  {
   "cell_type": "code",
   "execution_count": null,
   "id": "1afe0859-c2ad-4e1b-8e50-5b4022b6bbdf",
   "metadata": {},
   "outputs": [],
   "source": []
  },
  {
   "cell_type": "code",
   "execution_count": null,
   "id": "2737bf09-1827-49b9-9b6f-a8440f03d556",
   "metadata": {},
   "outputs": [],
   "source": []
  }
 ],
 "metadata": {
  "kernelspec": {
   "display_name": "pytorch",
   "language": "python",
   "name": "pytorch"
  },
  "language_info": {
   "codemirror_mode": {
    "name": "ipython",
    "version": 3
   },
   "file_extension": ".py",
   "mimetype": "text/x-python",
   "name": "python",
   "nbconvert_exporter": "python",
   "pygments_lexer": "ipython3",
   "version": "3.10.6"
  }
 },
 "nbformat": 4,
 "nbformat_minor": 5
}
