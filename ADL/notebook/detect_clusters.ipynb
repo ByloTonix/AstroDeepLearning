{
 "cells": [
  {
   "cell_type": "code",
   "execution_count": 6,
   "id": "a55f5f97-ac15-4cf2-b1d7-2bf5a93bb8e7",
   "metadata": {
    "ExecuteTime": {
     "end_time": "2022-10-01T13:28:22.431696Z",
     "start_time": "2022-10-01T13:28:20.372215Z"
    },
    "execution": {
     "iopub.execute_input": "2022-11-08T16:51:27.315039Z",
     "iopub.status.busy": "2022-11-08T16:51:27.314598Z",
     "iopub.status.idle": "2022-11-08T16:51:27.319790Z",
     "shell.execute_reply": "2022-11-08T16:51:27.319143Z",
     "shell.execute_reply.started": "2022-11-08T16:51:27.314975Z"
    },
    "tags": []
   },
   "outputs": [],
   "source": [
    "username = \"alisa\"\n",
    "if username == \"alisa\":\n",
    "    import sys\n",
    "    sys.path.append(\"/home/alisa/git/AstroDeepLearning/\")\n",
    "from ADL.other.detector.scripts import scan_Planck_Unet, extract_cat_Planck\n",
    "import pandas as pd\n",
    "from time import sleep\n",
    "from tqdm import tqdm\n",
    "from ADL.model import Unet_model\n"
   ]
  },
  {
   "cell_type": "markdown",
   "id": "7c2debe8",
   "metadata": {},
   "source": [
    "## Создание каталога скоплений из полученной модели сегментации"
   ]
  },
  {
   "cell_type": "code",
   "execution_count": 7,
   "id": "1ac79ed3-1df4-4102-be9e-eb84fe598259",
   "metadata": {
    "ExecuteTime": {
     "end_time": "2022-10-01T13:31:14.280054Z",
     "start_time": "2022-10-01T13:31:14.277596Z"
    },
    "execution": {
     "iopub.execute_input": "2022-11-08T16:51:27.680511Z",
     "iopub.status.busy": "2022-11-08T16:51:27.680005Z",
     "iopub.status.idle": "2022-11-08T16:51:27.686744Z",
     "shell.execute_reply": "2022-11-08T16:51:27.685914Z",
     "shell.execute_reply.started": "2022-11-08T16:51:27.680468Z"
    },
    "tags": []
   },
   "outputs": [],
   "source": [
    "def scan_and_detect(name: str, model_path: str, add_lfi: bool, step = 16, model_prms={}):\n",
    "    lfi_path = None\n",
    "    if add_lfi:\n",
    "        lfi_path = f\"/home/{username}/Data/Planck/healpix_nside2_lfi/\"\n",
    "    scan_Planck_Unet(model_path, f'/home/{username}/Data/Planck/healpix_nside2/', \n",
    "                     f'/home/{username}/Data/Planck/scans/{name}_step{step}/',\n",
    "                     step=step, device='gpu', lfi_path=lfi_path, model_prms=model_prms)\n",
    "    extract_cat_Planck(f'/home/{username}/Data/Planck/scans/{name}_step{step}/', \n",
    "                      f'/home/{username}/Data/Planck/detected_cats/{name}_step{step}.csv', 0.1)"
   ]
  },
  {
   "cell_type": "code",
   "execution_count": 3,
   "id": "42c9abc5-3932-41fd-b24d-15ea78be12c1",
   "metadata": {
    "execution": {
     "iopub.execute_input": "2022-11-07T20:19:05.700630Z",
     "iopub.status.busy": "2022-11-07T20:19:05.700356Z",
     "iopub.status.idle": "2022-11-07T22:17:50.934721Z",
     "shell.execute_reply": "2022-11-07T22:17:50.934077Z",
     "shell.execute_reply.started": "2022-11-07T20:19:05.700601Z"
    },
    "tags": []
   },
   "outputs": [
    {
     "name": "stdout",
     "output_type": "stream",
     "text": [
      "Slow scan with step 64\n"
     ]
    },
    {
     "name": "stderr",
     "output_type": "stream",
     "text": [
      "/home/alisa/.local/lib/python3.9/site-packages/keras/optimizers/optimizer_v2/adam.py:110: UserWarning: The `lr` argument is deprecated, use `learning_rate` instead.\n",
      "  super(Adam, self).__init__(name, **kwargs)\n",
      "100%|██████████| 48/48 [00:20<00:00,  2.32it/s]\n",
      "100%|██████████| 48/48 [1:58:23<00:00, 147.99s/it]  \n"
     ]
    }
   ],
   "source": [
    "scan_and_detect(\"check_detection_not_cluster\", \n",
    "                \"/home/alisa/Models/Planck_Unet/pz-not-cluster_8-8/pz-not-cluster_8-8_ep011.hdf5\", add_lfi=False,\n",
    "               step=64)"
   ]
  },
  {
   "cell_type": "code",
   "execution_count": 8,
   "id": "dc13dc13-afc3-4543-8c79-458770be6f6a",
   "metadata": {
    "ExecuteTime": {
     "end_time": "2022-10-01T13:22:35.819725Z",
     "start_time": "2022-10-01T13:22:35.814484Z"
    },
    "execution": {
     "iopub.execute_input": "2022-11-08T16:51:30.046274Z",
     "iopub.status.busy": "2022-11-08T16:51:30.045737Z",
     "iopub.status.idle": "2022-11-08T16:51:30.053408Z",
     "shell.execute_reply": "2022-11-08T16:51:30.052336Z",
     "shell.execute_reply.started": "2022-11-08T16:51:30.046229Z"
    },
    "tags": []
   },
   "outputs": [],
   "source": [
    "def find_epoch(path: str, prm: str =\"val_loss\", mode=\"min\", oth_prm=\"loss\"):\n",
    "    history = pd.read_csv(path)\n",
    "    if mode == \"min\":\n",
    "        idx = history[prm].argmin()\n",
    "    elif mode == \"eq\":\n",
    "        idx = abs(history[prm] - history[oth_prm]).argmin()\n",
    "    epoch = history.epoch[idx]\n",
    "    return epoch"
   ]
  },
  {
   "cell_type": "code",
   "execution_count": null,
   "id": "596b1dec-60ff-41d4-aa7c-8d968164205f",
   "metadata": {
    "execution": {
     "iopub.execute_input": "2022-11-08T16:51:30.639990Z",
     "iopub.status.busy": "2022-11-08T16:51:30.639517Z"
    },
    "tags": []
   },
   "outputs": [],
   "source": [
    "sleep((167 + 7) * (140 - 15))"
   ]
  },
  {
   "cell_type": "code",
   "execution_count": null,
   "id": "a3dfa67a-0abb-498a-bd26-09fbb8b69763",
   "metadata": {
    "tags": []
   },
   "outputs": [],
   "source": [
    "name = \"pz-not-cluster_8-8\"\n",
    "epoch = find_epoch(f\"/home/alisa/Models/Planck_Unet/{name}/history.csv\", mode=\"min\")\n",
    "step = 16\n",
    "print(epoch)\n",
    "scan_and_detect(f\"{name}_ep{epoch:03}\", \n",
    "                f\"/home/alisa/Models/Planck_Unet/{name}/{name}_ep{epoch:03}.hdf5\", add_lfi=False, step=step)"
   ]
  },
  {
   "cell_type": "code",
   "execution_count": null,
   "id": "8b15190a-c65c-41e8-a704-37e6620f181b",
   "metadata": {},
   "outputs": [],
   "source": [
    "sleep(180 * 140)"
   ]
  },
  {
   "cell_type": "code",
   "execution_count": null,
   "id": "79b86e81-67a2-4e38-841e-248cdaf6ec89",
   "metadata": {},
   "outputs": [],
   "source": [
    "name = \"pz-not-cluster-lfi_8-8\"\n",
    "epoch = find_epoch(f\"/home/alisa/Models/Planck_Unet/{name}/history.csv\", mode=\"min\")\n",
    "step = 16\n",
    "print(epoch)\n",
    "scan_and_detect(f\"{name}_ep{epoch:03}\", \n",
    "                f\"/home/alisa/Models/Planck_Unet/{name}/{name}_ep{epoch:03}.hdf5\", add_lfi=True, step=step)"
   ]
  },
  {
   "cell_type": "code",
   "execution_count": null,
   "id": "326aeec4-a911-49d8-8c89-b67df5fa71b1",
   "metadata": {},
   "outputs": [],
   "source": []
  }
 ],
 "metadata": {
  "kernelspec": {
   "display_name": "tf",
   "language": "python",
   "name": "tf"
  },
  "language_info": {
   "codemirror_mode": {
    "name": "ipython",
    "version": 3
   },
   "file_extension": ".py",
   "mimetype": "text/x-python",
   "name": "python",
   "nbconvert_exporter": "python",
   "pygments_lexer": "ipython3",
   "version": "3.9.12"
  }
 },
 "nbformat": 4,
 "nbformat_minor": 5
}
