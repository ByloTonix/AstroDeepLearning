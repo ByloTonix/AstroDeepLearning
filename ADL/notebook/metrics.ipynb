{
 "cells": [
  {
   "cell_type": "code",
   "execution_count": 1,
   "id": "242146db-38ea-490f-8b8f-48d684dd5956",
   "metadata": {
    "execution": {
     "iopub.execute_input": "2022-12-05T20:10:21.287263Z",
     "iopub.status.busy": "2022-12-05T20:10:21.286552Z",
     "iopub.status.idle": "2022-12-05T20:10:21.293446Z",
     "shell.execute_reply": "2022-12-05T20:10:21.292167Z",
     "shell.execute_reply.started": "2022-12-05T20:10:21.287202Z"
    },
    "tags": []
   },
   "outputs": [],
   "source": [
    "import sys\n",
    "sys.path.append(\"/home/rt2122/git/AstroDeepLearning/\")\n",
    "from ADL.other.metr.scripts import calc_prec_recall_by_range_parameter"
   ]
  },
  {
   "cell_type": "markdown",
   "id": "8e88dc1b",
   "metadata": {},
   "source": [
    "## Расчёт метрик по нужным областям неба"
   ]
  },
  {
   "cell_type": "code",
   "execution_count": 2,
   "id": "0bce46fa-d014-4461-8ce0-5a6dde522e2f",
   "metadata": {
    "execution": {
     "iopub.execute_input": "2022-12-05T20:10:21.577380Z",
     "iopub.status.busy": "2022-12-05T20:10:21.576933Z",
     "iopub.status.idle": "2022-12-05T20:10:21.582844Z",
     "shell.execute_reply": "2022-12-05T20:10:21.581545Z",
     "shell.execute_reply.started": "2022-12-05T20:10:21.577336Z"
    },
    "tags": []
   },
   "outputs": [],
   "source": [
    "tags = [\"\", \"_es\", \"_en\", \"_val\"]\n",
    "rules = [\"east_b20\", \"\", \"\", \"\"]\n",
    "pixels = [\"all\", \"east_south\", \"east_north\", \"east_val\"]"
   ]
  },
  {
   "cell_type": "code",
   "execution_count": 4,
   "id": "31db4a90-ed0e-44b2-b393-fce876e2f166",
   "metadata": {
    "execution": {
     "iopub.execute_input": "2022-12-05T20:19:38.403649Z",
     "iopub.status.busy": "2022-12-05T20:19:38.402984Z",
     "iopub.status.idle": "2022-12-05T20:19:48.558502Z",
     "shell.execute_reply": "2022-12-05T20:19:48.557366Z",
     "shell.execute_reply.started": "2022-12-05T20:19:38.403589Z"
    }
   },
   "outputs": [],
   "source": [
    "name=\"Al12-lfi_ep073_step16\"\n",
    "for tag, rule, pixel in zip(tags, rules, pixels):\n",
    "    calc_prec_recall_by_range_parameter(f\"/home/rt2122/Data/Planck/detected_cats/{name}.csv\", \n",
    "                                   \"/home/rt2122/Data/Planck/cluster_cats/\", \n",
    "                                    f\"/home/rt2122/Data/Planck/metr/stat_{name}{tag}.csv\", \n",
    "                                    rules_preset=rule, \n",
    "                                    range_prm=\"max_pred\", range_preset=\"linear\", pixels_preset=pixel, \n",
    "                                    spec_precision=[\"eROSITA\", \"Pz_Mcxc_Act\", \"PCCS2_not_cluster\"])"
   ]
  },
  {
   "cell_type": "code",
   "execution_count": null,
   "id": "acfd7520-4967-4b02-ab8a-941ca9bc1417",
   "metadata": {},
   "outputs": [],
   "source": []
  }
 ],
 "metadata": {
  "kernelspec": {
   "display_name": "Python 3 (ipykernel)",
   "language": "python",
   "name": "python3"
  },
  "language_info": {
   "codemirror_mode": {
    "name": "ipython",
    "version": 3
   },
   "file_extension": ".py",
   "mimetype": "text/x-python",
   "name": "python",
   "nbconvert_exporter": "python",
   "pygments_lexer": "ipython3",
   "version": "3.9.7"
  }
 },
 "nbformat": 4,
 "nbformat_minor": 5
}
