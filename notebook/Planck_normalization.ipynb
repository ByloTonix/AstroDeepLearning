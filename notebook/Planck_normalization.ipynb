{
 "cells": [
  {
   "cell_type": "code",
   "execution_count": 7,
   "id": "8364f3ea",
   "metadata": {
    "ExecuteTime": {
     "end_time": "2022-06-02T19:14:03.625404Z",
     "start_time": "2022-06-02T19:14:03.187123Z"
    }
   },
   "outputs": [],
   "source": [
    "from AstroDeepLearning.preproc.Planck import normalize_asym\n",
    "import numpy as np\n",
    "import os\n",
    "from matplotlib import pyplot as plt"
   ]
  },
  {
   "cell_type": "code",
   "execution_count": 2,
   "id": "39b3dde3",
   "metadata": {
    "ExecuteTime": {
     "end_time": "2022-06-02T19:12:26.161351Z",
     "start_time": "2022-06-02T19:12:25.962688Z"
    }
   },
   "outputs": [],
   "source": [
    "dirname = '/home/rt2122/Data/Planck/i/'\n",
    "files = os.listdir(dirname)\n",
    "data = {int(file[:3]) : np.load(os.path.join(dirname, file)) for file in files}"
   ]
  },
  {
   "cell_type": "code",
   "execution_count": 3,
   "id": "b17e12bc",
   "metadata": {
    "ExecuteTime": {
     "end_time": "2022-06-02T19:12:35.061413Z",
     "start_time": "2022-06-02T19:12:35.053799Z"
    }
   },
   "outputs": [
    {
     "data": {
      "text/plain": [
       "[143, 857, 545, 353, 100, 217]"
      ]
     },
     "execution_count": 3,
     "metadata": {},
     "output_type": "execute_result"
    }
   ],
   "source": [
    "list(data)"
   ]
  },
  {
   "cell_type": "code",
   "execution_count": 6,
   "id": "ba3e42fb",
   "metadata": {
    "ExecuteTime": {
     "end_time": "2022-06-02T19:14:03.179285Z",
     "start_time": "2022-06-02T19:13:45.162997Z"
    }
   },
   "outputs": [],
   "source": [
    "normalized_data = {}\n",
    "normalized_data[100] = normalize_asym(data[100])\n",
    "normalized_data[143] = normalize_asym(data[143])\n",
    "normalized_data[217] = normalize_asym(data[217])\n",
    "normalized_data[353] = normalize_asym(data[353], p=(10**-4, 0.99))\n",
    "normalized_data[545] = normalize_asym(data[545], p=(10**-5,0.9))\n",
    "normalized_data[857] = normalize_asym(data[857], p=(10**-5,0.9))"
   ]
  },
  {
   "cell_type": "code",
   "execution_count": 8,
   "id": "aee35fa8",
   "metadata": {
    "ExecuteTime": {
     "end_time": "2022-06-02T19:14:49.485078Z",
     "start_time": "2022-06-02T19:14:31.200951Z"
    }
   },
   "outputs": [
    {
     "data": {
      "image/png": "[encoded data removed]",
      "text/plain": [
       "<Figure size 432x288 with 1 Axes>"
      ]
     },
     "metadata": {
      "needs_background": "light"
     },
     "output_type": "display_data"
    }
   ],
   "source": [
    "f, ax = plt.subplots(1, 1)\n",
    "bins = np.arange(-5, 30, 35/500)\n",
    "for ch, i_data in normalized_data.items():\n",
    "    ax.hist(i_data, bins, alpha=0.4)\n",
    "plt.show()"
   ]
  },
  {
   "cell_type": "code",
   "execution_count": 9,
   "id": "50a5675d",
   "metadata": {
    "ExecuteTime": {
     "end_time": "2022-06-02T19:15:30.195895Z",
     "start_time": "2022-06-02T19:15:12.053299Z"
    }
   },
   "outputs": [
    {
     "data": {
      "image/png": "[encoded data removed]",
      "text/plain": [
       "<Figure size 432x288 with 1 Axes>"
      ]
     },
     "metadata": {
      "needs_background": "light"
     },
     "output_type": "display_data"
    }
   ],
   "source": [
    "f, ax = plt.subplots(1, 1)\n",
    "bins = np.arange(-5, 30, 35/500)\n",
    "for ch, i_data in normalized_data.items():\n",
    "    ax.hist(i_data, bins)\n",
    "plt.show()"
   ]
  },
  {
   "cell_type": "code",
   "execution_count": null,
   "id": "3bb728a5",
   "metadata": {},
   "outputs": [],
   "source": []
  }
 ],
 "metadata": {
  "kernelspec": {
   "display_name": "Python (base)",
   "language": "python",
   "name": "base"
  },
  "language_info": {
   "codemirror_mode": {
    "name": "ipython",
    "version": 3
   },
   "file_extension": ".py",
   "mimetype": "text/x-python",
   "name": "python",
   "nbconvert_exporter": "python",
   "pygments_lexer": "ipython3",
   "version": "3.9.7"
  },
  "varInspector": {
   "cols": {
    "lenName": 16,
    "lenType": 16,
    "lenVar": 40
   },
   "kernels_config": {
    "python": {
     "delete_cmd_postfix": "",
     "delete_cmd_prefix": "del ",
     "library": "var_list.py",
     "varRefreshCmd": "print(var_dic_list())"
    },
    "r": {
     "delete_cmd_postfix": ") ",
     "delete_cmd_prefix": "rm(",
     "library": "var_list.r",
     "varRefreshCmd": "cat(var_dic_list()) "
    }
   },
   "types_to_exclude": [
    "module",
    "function",
    "builtin_function_or_method",
    "instance",
    "_Feature"
   ],
   "window_display": false
  }
 },
 "nbformat": 4,
 "nbformat_minor": 5
}
